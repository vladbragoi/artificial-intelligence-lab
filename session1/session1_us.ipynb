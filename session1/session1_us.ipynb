{
 "cells": [
  {
   "cell_type": "markdown",
   "metadata": {},
   "source": [
    "# AI-LAB SESSION 1: Uninformed search\n",
    "\n",
    "In this first session we will work on uninformed search\n",
    "\n",
    "## Maze environments\n",
    "\n",
    "The environments used are **SmallMaze** (visible in the figure) and its variations\n",
    "![SmallMaze](images/maze.png)\n",
    "The agent starts in cell $(0, 2)$ and has to reach the treasure in $(4, 3)$\n",
    "\n",
    "## Assignment 1\n",
    "\n",
    "Your first assignment is to implement the BFS algorithm on **SmallMaze**. In particular, you are required to implement both *tree_search* and *graph_search* versions of BFS that will be called by the generic *bfs*.\n",
    "\n",
    "The results returned by your *bfs* must be a tuple $(path, stats)$ in the following form:\n",
    "* *path* - tuple of state identifiers forming a path from the start state to the goal state. ``None`` if no solution is found\n",
    "* *stats* - tuple of:\n",
    "     * *time* - time elapsed between the start and the end of the algorithm\n",
    "     * *expc* - number of nodes explored. A node is considered as explored when removed from the fringe and analyzed\n",
    "     * *maxnodes* - maximum number of nodes in memory at the same time (fringe + closed)\n",
    "\n",
    "After the correctness of your implementations have been assessed, you can run the algorithms on other two maze environments: **GrdMaze** and **BlockedMaze**.\n",
    "\n",
    "Function *build_path* can be used to return a tuple of states from the root node (excluded) to another node by following *parent* links"
   ]
  },
  {
   "cell_type": "code",
   "execution_count": 10,
   "metadata": {},
   "outputs": [
    {
     "data": {
      "text/plain": [
       "(2, 3)"
      ]
     },
     "execution_count": 10,
     "metadata": {},
     "output_type": "execute_result"
    }
   ],
   "source": [
    "import os\n",
    "import sys\n",
    "module_path = os.path.abspath(os.path.join('..'))\n",
    "if module_path not in sys.path:\n",
    "    sys.path.append(module_path)\n",
    "\n",
    "import gym\n",
    "import envs\n",
    "from timeit import default_timer as timer\n",
    "from utils.fringe import FringeNode, QueueFringe\n",
    "from utils.funcs import build_path\n",
    "\n",
    "node_1 = FringeNode(1)\n",
    "node_2 = FringeNode(2, node_1)\n",
    "node_3 = FringeNode(3, node_2)\n",
    "build_path(node_3)"
   ]
  },
  {
   "cell_type": "markdown",
   "metadata": {},
   "source": [
    "The next two functions have to be implemented"
   ]
  },
  {
   "cell_type": "code",
   "execution_count": 11,
   "metadata": {},
   "outputs": [],
   "source": [
    "def tree_search(environment, fringe):\n",
    "    \"\"\"\n",
    "    Tree search\n",
    "    \n",
    "    Args:\n",
    "        environment: OpenAI Gym environment\n",
    "        fringe: instance of Fringe data structure\n",
    "        \n",
    "    Returns:\n",
    "        (path, stats): solution as a path and stats.\n",
    "        The stats are a tuple of (expc, maxnodes): number of explored states, max nodes in memory\n",
    "    \"\"\"\n",
    "    max_nodes = 0\n",
    "    explored_states = 0\n",
    "    \n",
    "    fringe.add(FringeNode(environment.startstate))\n",
    "    while not fringe.is_empty():\n",
    "        node = fringe.remove()\n",
    "        explored_states += 1\n",
    "        if node.state == environment.goalstate:\n",
    "            return build_path(node), (explored_states, max_nodes)\n",
    "        for action in range(environment.action_space.n):\n",
    "            result = environment.sample(node.state, action)\n",
    "            s = FringeNode(state=result, parent=node)\n",
    "            fringe.add(s)\n",
    "        if len(fringe) > max_nodes:\n",
    "            max_nodes = len(fringe)\n",
    "\n",
    "        # actions = [action for action in range(environment.action_space.n)]\n",
    "        # list(map(lambda action: fringe.add(FringeNode(state=environment.sample(node.state, action), parent=node)), \n",
    "        #          actions))\n",
    "            \n",
    "    raise EnvironmentError(\"Fringe is empty\")\n",
    "\n"
   ]
  },
  {
   "cell_type": "code",
   "execution_count": 42,
   "metadata": {},
   "outputs": [],
   "source": [
    "def graph_search(environment, fringe):\n",
    "    \"\"\"\n",
    "    Graph search\n",
    "\n",
    "    Args:\n",
    "        environment: OpenAI Gym environment\n",
    "        fringe: instance of Fringe data structure\n",
    "\n",
    "    Returns:\n",
    "        (path, stats): solution as a path and stats.\n",
    "        The stats are a tuple of (expc, maxnodes): number of explored nodes, max nodes in memory\n",
    "    \"\"\"\n",
    "    closed = set()\n",
    "    max_nodes = 0\n",
    "    explored_states = 0\n",
    "\n",
    "    fringe.add(FringeNode(environment.startstate))\n",
    "    while not fringe.is_empty():\n",
    "        node = fringe.remove()\n",
    "        if node.state == environment.goalstate:\n",
    "            return build_path(node), (explored_states, max_nodes)\n",
    "        if node.state in closed:\n",
    "            continue\n",
    "        explored_states += 1\n",
    "        closed.add(node.state)\n",
    "        if len(closed) + len(fringe) > max_nodes:\n",
    "            max_nodes = len(closed) + len(fringe)\n",
    "        for action in range(environment.action_space.n):\n",
    "            result = environment.sample(node.state, action)\n",
    "            s = FringeNode(state=result, parent=node)\n",
    "            fringe.add(s)\n",
    "\n",
    "    return None, (explored_states, max_nodes)\n"
   ]
  },
  {
   "cell_type": "code",
   "execution_count": 37,
   "metadata": {
    "collapsed": true
   },
   "outputs": [],
   "source": [
    "def bfs(environment, search_type):\n",
    "    \"\"\"\n",
    "    Breadth-first search\n",
    "    \n",
    "    Args:\n",
    "        environment: OpenAI Gym environment\n",
    "        search_type: type of search - tree_search or graph_search (function pointer)\n",
    "        \n",
    "    Returns:\n",
    "        (path, stats): solution as a path and stats.\n",
    "        The stats are a tuple of (time, expc, maxnodes): elapsed time, number of explored nodes, max nodes in memory\n",
    "    \"\"\"\n",
    "    t = timer()\n",
    "    path, stats = search_type(environment, QueueFringe())\n",
    "    return path, (timer() - t, stats[0], stats[1])\n"
   ]
  },
  {
   "cell_type": "markdown",
   "metadata": {},
   "source": [
    "The following code calls your tree search version of BFS and prints the results"
   ]
  },
  {
   "cell_type": "code",
   "execution_count": 16,
   "metadata": {
    "scrolled": true,
    "collapsed": false
   },
   "outputs": [
    {
     "name": "stdout",
     "output_type": "stream",
     "text": [
      "\n----------------------------------------------------------------\n\tTREE SEARCH\n\tEnvironment:  GrdMaze-v0\n----------------------------------------------------------------\n\n[['C' 'C' 'C' 'S']\n ['C' 'C' 'W' 'C']\n ['C' 'C' 'C' 'C']\n ['C' 'W' 'W' 'W']\n ['C' 'C' 'C' 'G']]\n"
     ]
    },
    {
     "name": "stdout",
     "output_type": "stream",
     "text": [
      "\n\nExecution time: 38.707s\nN° of nodes explored: 365867\nMax n° of nodes in memory: 1097599\nSolution: [(0, 2), (0, 1), (0, 0), (1, 0), (2, 0), (3, 0), (4, 0), (4, 1), (4, 2), (4, 3)]\n"
     ]
    }
   ],
   "source": [
    "envname = \"SmallMaze-v0\"  # Other options are GrdMaze-v0 and BlockedMaze-v0\n",
    "\n",
    "print(\"\\n----------------------------------------------------------------\")\n",
    "print(\"\\tTREE SEARCH\")\n",
    "print(\"\\tEnvironment: \", envname)\n",
    "print(\"----------------------------------------------------------------\\n\")\n",
    "\n",
    "# Create and render the environment\n",
    "env = gym.make(envname)\n",
    "env.render()\n",
    "solution, stats = bfs(env, tree_search)  # Perform BFS\n",
    "if solution is not None:\n",
    "    solution = [env.state_to_pos(s) for s in solution]\n",
    "\n",
    "# Print stats and path\n",
    "print(\"\\n\\nExecution time: {0}s\\nN° of nodes explored: {1}\\nMax n° of nodes in memory: {2}\\nSolution: {3}\".format(\n",
    "        round(stats[0], 4), stats[1], stats[2], solution))\n"
   ]
  },
  {
   "cell_type": "markdown",
   "metadata": {},
   "source": [
    "Correct results for BFS tree search can be found [here](results/bfs_tree_search_results.txt)\n",
    "\n",
    "The following code calls your graph search version of BFS and prints the results"
   ]
  },
  {
   "cell_type": "code",
   "execution_count": 41,
   "metadata": {},
   "outputs": [
    {
     "name": "stdout",
     "output_type": "stream",
     "text": [
      "\n----------------------------------------------------------------\n\tGRAPH SEARCH\n\tEnvironment:  SmallMaze-v0\n----------------------------------------------------------------\n\n[['C' 'C' 'S' 'C']\n ['C' 'C' 'W' 'C']\n ['C' 'C' 'C' 'C']\n ['C' 'W' 'W' 'W']\n ['C' 'C' 'C' 'G']]\n\n\nExecution time: 0.0069s\nN° of nodes explored: 59\nMax n° of nodes in memory: 21\nSolution: [(0, 1), (0, 0), (1, 0), (2, 0), (3, 0), (4, 0), (4, 1), (4, 2), (4, 3)]\n"
     ]
    }
   ],
   "source": [
    "envname = \"SmallMaze-v0\"  # Other options are GrdMaze-v0 and BlockedMaze-v0\n",
    "\n",
    "print(\"\\n----------------------------------------------------------------\")\n",
    "print(\"\\tGRAPH SEARCH\")\n",
    "print(\"\\tEnvironment: \", envname)\n",
    "print(\"----------------------------------------------------------------\\n\")\n",
    "\n",
    "# Create and render the environment\n",
    "env = gym.make(envname)\n",
    "env.render()\n",
    "solution, stats = bfs(env, graph_search)  # Perform BFS\n",
    "if solution is not None:\n",
    "    solution = [env.state_to_pos(s) for s in solution]\n",
    "    \n",
    "# Print stats and path\n",
    "print(\"\\n\\nExecution time: {0}s\\nN° of nodes explored: {1}\\nMax n° of nodes in memory: {2}\\nSolution: {3}\".format(\n",
    "        round(stats[0], 4), stats[1], stats[2], solution))"
   ]
  },
  {
   "cell_type": "markdown",
   "metadata": {},
   "source": [
    "Correct results for BFS graph search can be found [here](results/bfs_graph_search_results.txt)\n",
    "\n",
    "## Assignment 2\n",
    "\n",
    "Your second assignment is to implement the IDS algorithm on **SmallMaze**. In particular, you are required to implement both *dls_ts* (depth-limited tree search) and *dls_gs* (depth-limited graph search) versions of IDS that will be called by the generic *ids*. The recursions must be implemented in *rdls_ts* (recursive depth-limited tree search) and *rdls_gs* (recursive depth-limited graph search) called by *dls_ts* and *dls_gs* respectively.\n",
    "\n",
    "Similarly to assignment 1, the results returned by your *ids* must be a tuple $(path, stats)$ in the following form:\n",
    "* *path* - tuple of state identifiers forming a path from the start state to the goal state. ``None`` if no solution is found\n",
    "* *stats* - tuple of:\n",
    "     * *time* - time elapsed between the start and the end of the algorithm\n",
    "     * *expc* - number of nodes explored. A node is considered as explored when removed from the fringe and analyzed\n",
    "     * *maxnodes* - maximum number of nodes in memory at the same time (the depth of the recursion stack + closed)\n",
    "\n",
    "After the correctness of your implementations have been assessed, you can run the algorithms on other two maze environments: **GrdMaze** and **BlockedMaze**.\n",
    "\n",
    "**FringeNode** has a useful variable that can be set in the constructor and can be used to track the depth of a node in the path (and consequently of the recursion stack of IDS): *pathcost*. If the root node has a *pathcost* of 0, its children will have a *pathcost* increased by 1"
   ]
  },
  {
   "cell_type": "code",
   "execution_count": 44,
   "metadata": {},
   "outputs": [
    {
     "name": "stdout",
     "output_type": "stream",
     "text": [
      "Root pathcost: 0\tChild pathcost: 1\n"
     ]
    }
   ],
   "source": [
    "start = env.startstate\n",
    "root = FringeNode(start)  # parent = None and pathcost = 0 as default\n",
    "child = FringeNode(env.sample(start, 0), root, root.pathcost + 1)  # pathcost is the third argument\n",
    "print(\"Root pathcost: {}\\tChild pathcost: {}\".format(root.pathcost, child.pathcost))"
   ]
  },
  {
   "cell_type": "markdown",
   "metadata": {},
   "source": [
    "Here you can implement the various functions requested"
   ]
  },
  {
   "cell_type": "code",
   "execution_count": 45,
   "metadata": {},
   "outputs": [],
   "source": [
    "def dls_ts(environment, limit):\n",
    "    \"\"\"\n",
    "    Depth-limited search (tree search)\n",
    "    \n",
    "    Args:\n",
    "        environment: OpenAI Gym environment\n",
    "        limit: depth limit budget\n",
    "        \n",
    "    Returns:\n",
    "        (path, cutoff, stats): solution as a path, cutoff flag and stats.\n",
    "        The stats are a tuple of (time, expc, maxnodes): elapsed time, number of explored nodes, max nodes in memory\n",
    "    \"\"\"\n",
    "    t = timer()\n",
    "    path, cutoff, expc, maxdepth = rdls_ts(environment, FringeNode(environment.startstate), limit)\n",
    "    return path, cutoff, (timer() - t, expc, maxdepth)\n"
   ]
  },
  {
   "cell_type": "code",
   "execution_count": 88,
   "metadata": {},
   "outputs": [],
   "source": [
    "def rdls_ts(environment, node, limit):\n",
    "    \"\"\"\n",
    "    Recursive depth-limited search (tree search)\n",
    "    \n",
    "    Args:\n",
    "        environment: OpenAI Gym environment\n",
    "        node: node to explore\n",
    "        limit: depth limit budget\n",
    "    \n",
    "    Returns:\n",
    "        (path, cutoff, expc, maxdepth): path, cutoff flag, number of explored nodes, max nodes in memory\n",
    "    \"\"\"    \n",
    "    explored_states = 0\n",
    "    if node.state == environment.goalstate:\n",
    "        return build_path(node), False, 1, limit\n",
    "    if limit == 0:\n",
    "        return None, True, 1, limit\n",
    "    \n",
    "    for action in range(environment.action_space.n):\n",
    "        successor = FringeNode(environment.sample(node.state, action), parent=node)\n",
    "        result, cutoff, expc, maxdepth = rdls_ts(environment, successor, limit - 1)\n",
    "        explored_states += expc\n",
    "        if not cutoff:\n",
    "            return result, False, explored_states + 1, limit\n",
    "    return None, True, explored_states + 1, limit\n"
   ]
  },
  {
   "cell_type": "code",
   "execution_count": 47,
   "metadata": {},
   "outputs": [],
   "source": [
    "def dls_gs(environment, limit):\n",
    "    \"\"\"\n",
    "    Depth-limited search (graph search)\n",
    "    \n",
    "    Args:\n",
    "        environment: OpenAI Gym environment\n",
    "        limit: depth limit budget\n",
    "        \n",
    "    Returns:\n",
    "        (path, cutoff, stats): solution as a path, cutoff flag and stats.\n",
    "        The stats are a tuple of (time, expc, maxnodes): elapsed time, number of explored nodes, max nodes in memory\n",
    "    \"\"\"\n",
    "    t = timer()\n",
    "    path, cutoff, expc, maxdepth = rdls_gs(environment, FringeNode(environment.startstate), limit, set())\n",
    "    return path, cutoff, (timer() - t, expc, maxdepth)\n"
   ]
  },
  {
   "cell_type": "code",
   "execution_count": 92,
   "metadata": {},
   "outputs": [],
   "source": [
    "def rdls_gs(environment, node, limit, closed):\n",
    "    \"\"\"\n",
    "    Recursive depth-limited search (graph search)\n",
    "    \n",
    "    Args:\n",
    "        environment: OpenAI Gym environment\n",
    "        node: node to explore\n",
    "        limit: depth limit budget\n",
    "        closed: completely explored nodes\n",
    "        \n",
    "    Returns:\n",
    "        (path, cutoff, expc, maxdepth): path, cutoff flag, n° of nodes explored, max nodes in memory\n",
    "    \"\"\"\n",
    "    explored_states = 0\n",
    "    if node.state not in closed:\n",
    "        closed.add(node.state)\n",
    "    if node.state == environment.goalstate:\n",
    "        return build_path(node), False, 1, limit\n",
    "    if limit == 0:\n",
    "        return None, True, 1, limit\n",
    "\n",
    "    for action in range(environment.action_space.n):\n",
    "        successor = FringeNode(environment.sample(node.state, action), parent=node)\n",
    "        if successor.state in closed:\n",
    "            continue\n",
    "        result, cutoff, expc, maxdepth = rdls_ts(environment, successor, limit - 1)\n",
    "        explored_states += expc\n",
    "        if not cutoff:\n",
    "            return result, False, explored_states + 1, limit\n",
    "    return None, True, explored_states + 1, limit\n"
   ]
  },
  {
   "cell_type": "code",
   "execution_count": 77,
   "metadata": {},
   "outputs": [],
   "source": [
    "def ids(environment, search_type):\n",
    "    \"\"\"\n",
    "    Iterative deepening depth-first search\n",
    "    \n",
    "    Args:\n",
    "        environment: OpenAI Gym environment\n",
    "        search_type: type of search (graph or tree) - dls_gs or dls_ts (function pointer)\n",
    "    \n",
    "    Returns:\n",
    "        (path, stats): solution as a path and stats.\n",
    "        The stats are a tuple of (time, expc, maxnodes): elapsed time, number of explored nodes, max nodes in memory\n",
    "    \"\"\"\n",
    "    t = timer()\n",
    "    # Pseudocode\n",
    "    # for depth = 0 to infinity\n",
    "    #   solution, cutoff, stats = stype(problem, depth)\n",
    "    depth = 0\n",
    "    expc = 0\n",
    "    while True:\n",
    "        result, cutoff, stats = search_type(environment, depth)\n",
    "        expc += stats[1]\n",
    "        if not cutoff:\n",
    "            return result, (timer() - t, expc, stats[2])\n",
    "        depth += 1\n"
   ]
  },
  {
   "cell_type": "markdown",
   "metadata": {},
   "source": [
    "The following code calls your tree search version of IDS and prints the results"
   ]
  },
  {
   "cell_type": "code",
   "execution_count": 91,
   "metadata": {},
   "outputs": [
    {
     "name": "stdout",
     "output_type": "stream",
     "text": [
      "\n----------------------------------------------------------------\n\tTREE SEARCH\n\tEnvironment:  SmallMaze-v0\n----------------------------------------------------------------\n\n[['C' 'C' 'S' 'C']\n ['C' 'C' 'W' 'C']\n ['C' 'C' 'C' 'C']\n ['C' 'W' 'W' 'W']\n ['C' 'C' 'C' 'G']]\n"
     ]
    },
    {
     "name": "stdout",
     "output_type": "stream",
     "text": [
      "\n\nExecution time: 3.674s\nN° of nodes explored: 138298\nMax n° of nodes in memory: 9\nSolution: [(0, 1), (0, 0), (1, 0), (2, 0), (3, 0), (4, 0), (4, 1), (4, 2), (4, 3)]\n"
     ]
    }
   ],
   "source": [
    "envname = \"SmallMaze-v0\"  # Other options are GrdMaze-v0 and BlockedMaze-v0\n",
    "\n",
    "print(\"\\n----------------------------------------------------------------\")\n",
    "print(\"\\tTREE SEARCH\")\n",
    "print(\"\\tEnvironment: \", envname)\n",
    "print(\"----------------------------------------------------------------\\n\")\n",
    "\n",
    "# Create and render the environment\n",
    "env = gym.make(envname)\n",
    "env.render()\n",
    "solution, stats = ids(env, dls_ts)  # Perform BFS\n",
    "if solution is not None:\n",
    "    solution = [env.state_to_pos(s) for s in solution]\n",
    "    \n",
    "# Print stats and path\n",
    "print(\"\\n\\nExecution time: {0}s\\nN° of nodes explored: {1}\\nMax n° of nodes in memory: {2}\\nSolution: {3}\".format(\n",
    "        round(stats[0], 4), stats[1], stats[2], solution))"
   ]
  },
  {
   "cell_type": "markdown",
   "metadata": {},
   "source": [
    "Correct results for IDS tree search can be found [here](results/ids_tree_search_results.txt)\n",
    "\n",
    "The following code calls your graph search version of IDS and prints the results"
   ]
  },
  {
   "cell_type": "code",
   "execution_count": 93,
   "metadata": {
    "collapsed": true
   },
   "outputs": [
    {
     "name": "stdout",
     "output_type": "stream",
     "text": [
      "\n----------------------------------------------------------------\n\tGRAPH SEARCH\n\tEnvironment:  SmallMaze-v0\n----------------------------------------------------------------\n\n[['C' 'C' 'S' 'C']\n ['C' 'C' 'W' 'C']\n ['C' 'C' 'C' 'C']\n ['C' 'W' 'W' 'W']\n ['C' 'C' 'C' 'G']]\n"
     ]
    },
    {
     "name": "stdout",
     "output_type": "stream",
     "text": [
      "\n\nExecution time: 2.1521s\nN° of nodes explored: 80050\nMax n° of nodes in memory: 9\nSolution: [(0, 1), (0, 0), (1, 0), (2, 0), (3, 0), (4, 0), (4, 1), (4, 2), (4, 3)]\n"
     ]
    }
   ],
   "source": [
    "envname = \"SmallMaze-v0\"  # Other options are GrdMaze-v0 and BlockedMaze-v0\n",
    "\n",
    "print(\"\\n----------------------------------------------------------------\")\n",
    "print(\"\\tGRAPH SEARCH\")\n",
    "print(\"\\tEnvironment: \", envname)\n",
    "print(\"----------------------------------------------------------------\\n\")\n",
    "\n",
    "# Create and render the environment\n",
    "env = gym.make(envname)\n",
    "env.render()\n",
    "solution, stats = ids(env, dls_gs)  # Perform BFS\n",
    "if solution is not None:\n",
    "    solution = [env.state_to_pos(s) for s in solution]\n",
    "    \n",
    "# Print stats and path\n",
    "print(\"\\n\\nExecution time: {0}s\\nN° of nodes explored: {1}\\nMax n° of nodes in memory: {2}\\nSolution: {3}\".format(\n",
    "        round(stats[0], 4), stats[1], stats[2], solution))"
   ]
  },
  {
   "cell_type": "markdown",
   "metadata": {},
   "source": [
    "Correct results for IDS graph search can be found [here](results/ids_graph_search_results.txt)\n",
    "\n",
    "## Discussion\n",
    "\n",
    "Now that you have correctly implemented both BFS and IDS what can you say about the solutions they compute? Are there significant differences in the stats?"
   ]
  }
 ],
 "metadata": {
  "kernelspec": {
   "display_name": "Python 3",
   "language": "python",
   "name": "python3"
  },
  "language_info": {
   "codemirror_mode": {
    "name": "ipython",
    "version": 3
   },
   "file_extension": ".py",
   "mimetype": "text/x-python",
   "name": "python",
   "nbconvert_exporter": "python",
   "pygments_lexer": "ipython3",
   "version": "3.7.1"
  }
 },
 "nbformat": 4,
 "nbformat_minor": 2
}
